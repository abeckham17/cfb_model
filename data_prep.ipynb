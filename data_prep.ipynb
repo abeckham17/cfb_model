{
 "cells": [
  {
   "cell_type": "code",
   "execution_count": 1,
   "metadata": {},
   "outputs": [],
   "source": [
    "import numpy as np\n",
    "import pandas as pd\n",
    "import seaborn as sns\n",
    "from sklearn.linear_model import LinearRegression\n",
    "import statsmodels.api as sm"
   ]
  },
  {
   "cell_type": "markdown",
   "metadata": {},
   "source": [
    "Read the Data into a dataframe"
   ]
  },
  {
   "cell_type": "code",
   "execution_count": 55,
   "metadata": {
    "scrolled": true
   },
   "outputs": [
    {
     "data": {
      "text/html": [
       "<div>\n",
       "<style scoped>\n",
       "    .dataframe tbody tr th:only-of-type {\n",
       "        vertical-align: middle;\n",
       "    }\n",
       "\n",
       "    .dataframe tbody tr th {\n",
       "        vertical-align: top;\n",
       "    }\n",
       "\n",
       "    .dataframe thead th {\n",
       "        text-align: right;\n",
       "    }\n",
       "</style>\n",
       "<table border=\"1\" class=\"dataframe\">\n",
       "  <thead>\n",
       "    <tr style=\"text-align: right;\">\n",
       "      <th></th>\n",
       "      <th>Games</th>\n",
       "      <th>Win-Loss</th>\n",
       "      <th>Off Rank</th>\n",
       "      <th>Off Plays</th>\n",
       "      <th>Off Yards</th>\n",
       "      <th>Off Yards/Play</th>\n",
       "      <th>Off TDs</th>\n",
       "      <th>Off Yards per Game</th>\n",
       "      <th>Def Rank</th>\n",
       "      <th>Def Plays</th>\n",
       "      <th>...</th>\n",
       "      <th>Average Time of Possession per Game</th>\n",
       "      <th>Turnover Rank</th>\n",
       "      <th>Fumbles Recovered</th>\n",
       "      <th>Opponents Intercepted</th>\n",
       "      <th>Turnovers Gain</th>\n",
       "      <th>Fumbles Lost</th>\n",
       "      <th>Interceptions Thrown.y</th>\n",
       "      <th>Turnovers Lost</th>\n",
       "      <th>Turnover Margin</th>\n",
       "      <th>Avg Turnover Margin per Game</th>\n",
       "    </tr>\n",
       "    <tr>\n",
       "      <th>Team</th>\n",
       "      <th></th>\n",
       "      <th></th>\n",
       "      <th></th>\n",
       "      <th></th>\n",
       "      <th></th>\n",
       "      <th></th>\n",
       "      <th></th>\n",
       "      <th></th>\n",
       "      <th></th>\n",
       "      <th></th>\n",
       "      <th></th>\n",
       "      <th></th>\n",
       "      <th></th>\n",
       "      <th></th>\n",
       "      <th></th>\n",
       "      <th></th>\n",
       "      <th></th>\n",
       "      <th></th>\n",
       "      <th></th>\n",
       "      <th></th>\n",
       "      <th></th>\n",
       "    </tr>\n",
       "  </thead>\n",
       "  <tbody>\n",
       "    <tr>\n",
       "      <td>Air Force (Mountain West)</td>\n",
       "      <td>13</td>\n",
       "      <td>11/2</td>\n",
       "      <td>51</td>\n",
       "      <td>881</td>\n",
       "      <td>5483</td>\n",
       "      <td>6.22</td>\n",
       "      <td>55</td>\n",
       "      <td>421.8</td>\n",
       "      <td>17</td>\n",
       "      <td>752</td>\n",
       "      <td>...</td>\n",
       "      <td>34:28:00</td>\n",
       "      <td>78</td>\n",
       "      <td>9</td>\n",
       "      <td>7</td>\n",
       "      <td>16</td>\n",
       "      <td>12</td>\n",
       "      <td>6</td>\n",
       "      <td>18</td>\n",
       "      <td>-2</td>\n",
       "      <td>-0.15</td>\n",
       "    </tr>\n",
       "    <tr>\n",
       "      <td>Akron (MAC)</td>\n",
       "      <td>12</td>\n",
       "      <td>0-12</td>\n",
       "      <td>130</td>\n",
       "      <td>725</td>\n",
       "      <td>2918</td>\n",
       "      <td>4.02</td>\n",
       "      <td>14</td>\n",
       "      <td>243.2</td>\n",
       "      <td>83</td>\n",
       "      <td>871</td>\n",
       "      <td>...</td>\n",
       "      <td>26:29:00</td>\n",
       "      <td>128</td>\n",
       "      <td>6</td>\n",
       "      <td>5</td>\n",
       "      <td>11</td>\n",
       "      <td>12</td>\n",
       "      <td>14</td>\n",
       "      <td>26</td>\n",
       "      <td>-15</td>\n",
       "      <td>-1.25</td>\n",
       "    </tr>\n",
       "  </tbody>\n",
       "</table>\n",
       "<p>2 rows × 145 columns</p>\n",
       "</div>"
      ],
      "text/plain": [
       "                           Games Win-Loss  Off Rank  Off Plays  Off Yards  \\\n",
       "Team                                                                        \n",
       "Air Force (Mountain West)     13     11/2        51        881       5483   \n",
       "Akron (MAC)                   12     0-12       130        725       2918   \n",
       "\n",
       "                           Off Yards/Play  Off TDs  Off Yards per Game  \\\n",
       "Team                                                                     \n",
       "Air Force (Mountain West)            6.22       55               421.8   \n",
       "Akron (MAC)                          4.02       14               243.2   \n",
       "\n",
       "                           Def Rank  Def Plays  ...  \\\n",
       "Team                                            ...   \n",
       "Air Force (Mountain West)        17        752  ...   \n",
       "Akron (MAC)                      83        871  ...   \n",
       "\n",
       "                           Average Time of Possession per Game  Turnover Rank  \\\n",
       "Team                                                                            \n",
       "Air Force (Mountain West)                             34:28:00             78   \n",
       "Akron (MAC)                                           26:29:00            128   \n",
       "\n",
       "                           Fumbles Recovered  Opponents Intercepted  \\\n",
       "Team                                                                  \n",
       "Air Force (Mountain West)                  9                      7   \n",
       "Akron (MAC)                                6                      5   \n",
       "\n",
       "                           Turnovers Gain  Fumbles Lost  \\\n",
       "Team                                                      \n",
       "Air Force (Mountain West)              16            12   \n",
       "Akron (MAC)                            11            12   \n",
       "\n",
       "                           Interceptions Thrown.y  Turnovers Lost  \\\n",
       "Team                                                                \n",
       "Air Force (Mountain West)                       6              18   \n",
       "Akron (MAC)                                    14              26   \n",
       "\n",
       "                           Turnover Margin  Avg Turnover Margin per Game  \n",
       "Team                                                                      \n",
       "Air Force (Mountain West)               -2                         -0.15  \n",
       "Akron (MAC)                            -15                         -1.25  \n",
       "\n",
       "[2 rows x 145 columns]"
      ]
     },
     "execution_count": 55,
     "metadata": {},
     "output_type": "execute_result"
    }
   ],
   "source": [
    "cfb = pd.read_csv('CFB2019.csv', index_col = 0)\n",
    "cfb.head(2)"
   ]
  },
  {
   "cell_type": "code",
   "execution_count": 56,
   "metadata": {},
   "outputs": [],
   "source": [
    "#records were converted to dates, so they must be reversed to dates\n",
    "def get_wins(date):\n",
    "    wins = date.split('-')[0]\n",
    "    wins = wins.split('/')[0]\n",
    "    return wins\n",
    "cfb['wins'] = cfb['Win-Loss'].apply(get_wins)"
   ]
  },
  {
   "cell_type": "code",
   "execution_count": 57,
   "metadata": {},
   "outputs": [],
   "source": [
    "#remove unncessary columns from the dataframe\n",
    "to_drop = ['Win-Loss']\n",
    "for col in cfb.columns:\n",
    "    if col[-4:] == 'Rank':\n",
    "        to_drop.append(col)\n",
    "cfb.drop(to_drop, axis = 1, inplace = True)"
   ]
  },
  {
   "cell_type": "code",
   "execution_count": 58,
   "metadata": {},
   "outputs": [
    {
     "name": "stderr",
     "output_type": "stream",
     "text": [
      "/Users/AngelaBeckham/opt/anaconda3/lib/python3.7/site-packages/ipykernel_launcher.py:3: SettingWithCopyWarning: \n",
      "A value is trying to be set on a copy of a slice from a DataFrame\n",
      "\n",
      "See the caveats in the documentation: http://pandas.pydata.org/pandas-docs/stable/user_guide/indexing.html#returning-a-view-versus-a-copy\n",
      "  This is separate from the ipykernel package so we can avoid doing imports until\n"
     ]
    }
   ],
   "source": [
    "#calculate a team's win percentage, which will be the final response variable\n",
    "cfb['win_percent'] = [np.NaN]*cfb.index.size\n",
    "for team in cfb.index:\n",
    "    cfb['win_percent'][team] = int(cfb['wins'][team])/int(cfb['Games'][team])"
   ]
  },
  {
   "cell_type": "code",
   "execution_count": 70,
   "metadata": {},
   "outputs": [],
   "source": [
    "#convert time of possion from a string in the form \"min:sec\" into a decimal\n",
    "def convert_mins(time):\n",
    "    mins = float(time.split(':')[0])\n",
    "    secs = float(time.split(':')[1])\n",
    "    secs = secs / 60\n",
    "    return mins + secs\n",
    "cfb['avg_top'] = cfb['Average Time of Possession per Game'].apply(convert_mins)\n",
    "cfb['top'] = cfb['Time of Possession'].apply(convert_mins)\n",
    "cfb.drop(['Average Time of Possession per Game', 'Time of Possession'], axis = 1, inplace = True)"
   ]
  },
  {
   "cell_type": "code",
   "execution_count": 68,
   "metadata": {},
   "outputs": [
    {
     "data": {
      "text/plain": [
       "29.316667    3\n",
       "32.916667    2\n",
       "30.050000    2\n",
       "30.583333    2\n",
       "29.333333    2\n",
       "            ..\n",
       "31.100000    1\n",
       "27.216667    1\n",
       "33.850000    1\n",
       "30.600000    1\n",
       "33.050000    1\n",
       "Name: avg_top, Length: 118, dtype: int64"
      ]
     },
     "execution_count": 68,
     "metadata": {},
     "output_type": "execute_result"
    }
   ],
   "source": [
    "cfb['avg_top'].value_counts()"
   ]
  },
  {
   "cell_type": "code",
   "execution_count": 6,
   "metadata": {},
   "outputs": [],
   "source": [
    "#scale turnover data to a per game basis since teams do not play the same number of games\n",
    "cfb['opponents_int_game'] = cfb['Opponents Intercepted']/cfb['Games']\n",
    "cfb['int_thrown_game'] = cfb['Interceptions Thrown.y']/cfb['Games']\n",
    "cfb['fumbles_rec_game'] = cfb['Fumbles Recovered']/cfb['Games']\n",
    "cfb['fumbles_lost_game'] = cfb['Fumbles Lost']/cfb['Games']"
   ]
  },
  {
   "cell_type": "code",
   "execution_count": 7,
   "metadata": {},
   "outputs": [],
   "source": [
    "cfb.to_csv('cfb_improved.csv')"
   ]
  },
  {
   "cell_type": "code",
   "execution_count": null,
   "metadata": {},
   "outputs": [],
   "source": []
  }
 ],
 "metadata": {
  "kernelspec": {
   "display_name": "Python 3",
   "language": "python",
   "name": "python3"
  },
  "language_info": {
   "codemirror_mode": {
    "name": "ipython",
    "version": 3
   },
   "file_extension": ".py",
   "mimetype": "text/x-python",
   "name": "python",
   "nbconvert_exporter": "python",
   "pygments_lexer": "ipython3",
   "version": "3.7.4"
  }
 },
 "nbformat": 4,
 "nbformat_minor": 2
}
